{
 "cells": [
  {
   "cell_type": "markdown",
   "metadata": {
    "id": "rvBuRSf8s8U5"
   },
   "source": [
    "# Author: Kumar R."
   ]
  },
  {
   "cell_type": "markdown",
   "metadata": {
    "id": "c1zoDx4WthZK"
   },
   "source": [
    "# Project: "
   ]
  },
  {
   "cell_type": "markdown",
   "metadata": {},
   "source": [
    "The project is to classify whether the person is wearing mask or not. I have used custom CNN architecture to train my model with my own custom image data set of people wearing mask and without mask."
   ]
  },
  {
   "cell_type": "code",
   "execution_count": 1,
   "metadata": {
    "executionInfo": {
     "elapsed": 1466,
     "status": "ok",
     "timestamp": 1624541465537,
     "user": {
      "displayName": "kumar naidu",
      "photoUrl": "https://lh3.googleusercontent.com/a-/AOh14Gif4eWyq6PJPCeZjQCRckQ1x68It-O755mZHjjJv1I=s64",
      "userId": "02782955877092460365"
     },
     "user_tz": -120
    },
    "id": "1lybt1OAthbK"
   },
   "outputs": [],
   "source": [
    "#Load the required libraries\n",
    "import pandas as pd\n",
    "import numpy as np\n",
    "import tensorflow as tf"
   ]
  },
  {
   "cell_type": "code",
   "execution_count": 2,
   "metadata": {
    "executionInfo": {
     "elapsed": 621,
     "status": "ok",
     "timestamp": 1624541468391,
     "user": {
      "displayName": "kumar naidu",
      "photoUrl": "https://lh3.googleusercontent.com/a-/AOh14Gif4eWyq6PJPCeZjQCRckQ1x68It-O755mZHjjJv1I=s64",
      "userId": "02782955877092460365"
     },
     "user_tz": -120
    },
    "id": "Mb4TH4EwtheY"
   },
   "outputs": [],
   "source": [
    "from keras.preprocessing.image import ImageDataGenerator "
   ]
  },
  {
   "cell_type": "code",
   "execution_count": 3,
   "metadata": {
    "colab": {
     "base_uri": "https://localhost:8080/"
    },
    "executionInfo": {
     "elapsed": 26929,
     "status": "ok",
     "timestamp": 1624541503393,
     "user": {
      "displayName": "kumar naidu",
      "photoUrl": "https://lh3.googleusercontent.com/a-/AOh14Gif4eWyq6PJPCeZjQCRckQ1x68It-O755mZHjjJv1I=s64",
      "userId": "02782955877092460365"
     },
     "user_tz": -120
    },
    "id": "FdFx4VQ-1VXl",
    "outputId": "88827b55-5001-4e53-992f-654ad60c27a5"
   },
   "outputs": [
    {
     "name": "stdout",
     "output_type": "stream",
     "text": [
      "Mounted at /content/drive/\n"
     ]
    }
   ],
   "source": [
    "#It is applicable only if the model is trained in google colab\n",
    "from google.colab import drive\n",
    "drive.mount('/content/drive/')"
   ]
  },
  {
   "cell_type": "code",
   "execution_count": 4,
   "metadata": {
    "executionInfo": {
     "elapsed": 238,
     "status": "ok",
     "timestamp": 1624541506528,
     "user": {
      "displayName": "kumar naidu",
      "photoUrl": "https://lh3.googleusercontent.com/a-/AOh14Gif4eWyq6PJPCeZjQCRckQ1x68It-O755mZHjjJv1I=s64",
      "userId": "02782955877092460365"
     },
     "user_tz": -120
    },
    "id": "1_vGDFDb30Kb"
   },
   "outputs": [],
   "source": [
    "#Load the optimizer\n",
    "from tensorflow.keras.optimizers import RMSprop"
   ]
  },
  {
   "cell_type": "code",
   "execution_count": 5,
   "metadata": {
    "executionInfo": {
     "elapsed": 2768,
     "status": "ok",
     "timestamp": 1624541514679,
     "user": {
      "displayName": "kumar naidu",
      "photoUrl": "https://lh3.googleusercontent.com/a-/AOh14Gif4eWyq6PJPCeZjQCRckQ1x68It-O755mZHjjJv1I=s64",
      "userId": "02782955877092460365"
     },
     "user_tz": -120
    },
    "id": "_3dcJK4_9C9y"
   },
   "outputs": [],
   "source": [
    "!pip install -q keras"
   ]
  },
  {
   "cell_type": "code",
   "execution_count": 6,
   "metadata": {
    "executionInfo": {
     "elapsed": 227,
     "status": "ok",
     "timestamp": 1624541517725,
     "user": {
      "displayName": "kumar naidu",
      "photoUrl": "https://lh3.googleusercontent.com/a-/AOh14Gif4eWyq6PJPCeZjQCRckQ1x68It-O755mZHjjJv1I=s64",
      "userId": "02782955877092460365"
     },
     "user_tz": -120
    },
    "id": "kSDz13079G9F"
   },
   "outputs": [],
   "source": [
    "#Data augumentation\n",
    "train_datagen = ImageDataGenerator(rescale=1./255,\n",
    "                                   rotation_range=36,\n",
    "                                   shear_range=0.2,\n",
    "                                   zoom_range=0.2,\n",
    "                                   width_shift_range=0.2,\n",
    "                                   horizontal_flip=True)\n",
    "test_datagen = ImageDataGenerator(rescale=1./255)                      "
   ]
  },
  {
   "cell_type": "code",
   "execution_count": 7,
   "metadata": {
    "executionInfo": {
     "elapsed": 225,
     "status": "ok",
     "timestamp": 1624541521586,
     "user": {
      "displayName": "kumar naidu",
      "photoUrl": "https://lh3.googleusercontent.com/a-/AOh14Gif4eWyq6PJPCeZjQCRckQ1x68It-O755mZHjjJv1I=s64",
      "userId": "02782955877092460365"
     },
     "user_tz": -120
    },
    "id": "NTCl5zMj-o0E"
   },
   "outputs": [],
   "source": [
    "#Read the training and test data location\n",
    "train_data = '/content/drive/MyDrive/Colab Notebooks/FaceMask/train'\n",
    "test_data = '/content/drive/MyDrive/Colab Notebooks/FaceMask/test'"
   ]
  },
  {
   "cell_type": "code",
   "execution_count": 8,
   "metadata": {
    "colab": {
     "base_uri": "https://localhost:8080/"
    },
    "executionInfo": {
     "elapsed": 5375,
     "status": "ok",
     "timestamp": 1624541557496,
     "user": {
      "displayName": "kumar naidu",
      "photoUrl": "https://lh3.googleusercontent.com/a-/AOh14Gif4eWyq6PJPCeZjQCRckQ1x68It-O755mZHjjJv1I=s64",
      "userId": "02782955877092460365"
     },
     "user_tz": -120
    },
    "id": "jb-PKstG_JTx",
    "outputId": "d76647f3-3cfd-4a16-9928-c4de41a212c5"
   },
   "outputs": [
    {
     "name": "stdout",
     "output_type": "stream",
     "text": [
      "Found 1314 images belonging to 2 classes.\n",
      "Found 194 images belonging to 2 classes.\n"
     ]
    }
   ],
   "source": [
    "#create a train and test datasets to train and test the model\n",
    "train = train_datagen.flow_from_directory(train_data,\n",
    "                                          target_size=(150,150),\n",
    "                                          batch_size=16,\n",
    "                                          class_mode='binary')\n",
    "\n",
    "test = test_datagen.flow_from_directory(test_data,\n",
    "                                        target_size=(150,150),\n",
    "                                        batch_size=16,\n",
    "                                        class_mode='binary')"
   ]
  },
  {
   "cell_type": "code",
   "execution_count": 9,
   "metadata": {
    "executionInfo": {
     "elapsed": 5249,
     "status": "ok",
     "timestamp": 1624541588146,
     "user": {
      "displayName": "kumar naidu",
      "photoUrl": "https://lh3.googleusercontent.com/a-/AOh14Gif4eWyq6PJPCeZjQCRckQ1x68It-O755mZHjjJv1I=s64",
      "userId": "02782955877092460365"
     },
     "user_tz": -120
    },
    "id": "Pr68F4rxAWHl"
   },
   "outputs": [],
   "source": [
    "#Model Building\n",
    "\n",
    "model = tf.keras.models.Sequential()\n",
    "#Input layer\n",
    "model.add(tf.keras.layers.Conv2D(32,(3,3), activation='relu', input_shape=(150,150,3)))\n",
    "model.add(tf.keras.layers.MaxPooling2D(2,2))\n",
    "#Hidden Convolutional layers\n",
    "model.add(tf.keras.layers.Conv2D(32,(3,3),activation='relu'))\n",
    "model.add(tf.keras.layers.MaxPooling2D(2,2))\n",
    "\n",
    "model.add(tf.keras.layers.Conv2D(32,(3,3), activation='relu'))\n",
    "model.add(tf.keras.layers.MaxPooling2D(2,2))\n",
    "\n",
    "#Flatten layer to ravel the features extracted from CNN architecture\n",
    "model.add(tf.keras.layers.Flatten())\n"
   ]
  },
  {
   "cell_type": "code",
   "execution_count": 10,
   "metadata": {
    "executionInfo": {
     "elapsed": 228,
     "status": "ok",
     "timestamp": 1624541595177,
     "user": {
      "displayName": "kumar naidu",
      "photoUrl": "https://lh3.googleusercontent.com/a-/AOh14Gif4eWyq6PJPCeZjQCRckQ1x68It-O755mZHjjJv1I=s64",
      "userId": "02782955877092460365"
     },
     "user_tz": -120
    },
    "id": "sAoo6xR7CLLH"
   },
   "outputs": [],
   "source": [
    "#Creating a dense layers (ANN)\n",
    "model.add(tf.keras.layers.Dense(units=100, activation='relu'))\n",
    "#Output layer\n",
    "model.add(tf.keras.layers.Dense(1, activation='sigmoid'))"
   ]
  },
  {
   "cell_type": "code",
   "execution_count": 11,
   "metadata": {
    "executionInfo": {
     "elapsed": 221,
     "status": "ok",
     "timestamp": 1624541600162,
     "user": {
      "displayName": "kumar naidu",
      "photoUrl": "https://lh3.googleusercontent.com/a-/AOh14Gif4eWyq6PJPCeZjQCRckQ1x68It-O755mZHjjJv1I=s64",
      "userId": "02782955877092460365"
     },
     "user_tz": -120
    },
    "id": "wmkkeRk_DeCw"
   },
   "outputs": [],
   "source": [
    "#model compilation\n",
    "model.compile(optimizer='RMSprop', loss='binary_crossentropy',metrics=['accuracy'])"
   ]
  },
  {
   "cell_type": "code",
   "execution_count": 12,
   "metadata": {
    "colab": {
     "base_uri": "https://localhost:8080/"
    },
    "executionInfo": {
     "elapsed": 906366,
     "status": "ok",
     "timestamp": 1624542528364,
     "user": {
      "displayName": "kumar naidu",
      "photoUrl": "https://lh3.googleusercontent.com/a-/AOh14Gif4eWyq6PJPCeZjQCRckQ1x68It-O755mZHjjJv1I=s64",
      "userId": "02782955877092460365"
     },
     "user_tz": -120
    },
    "id": "KWjfwZtiDrKF",
    "outputId": "d032e2ec-de6b-4680-83ae-f83c8171e166",
    "scrolled": true
   },
   "outputs": [
    {
     "name": "stdout",
     "output_type": "stream",
     "text": [
      "Epoch 1/25\n",
      "82/82 [==============================] - 448s 5s/step - loss: 0.5101 - accuracy: 0.7565 - val_loss: 0.4422 - val_accuracy: 0.8021\n",
      "Epoch 2/25\n",
      "82/82 [==============================] - 13s 161ms/step - loss: 0.2593 - accuracy: 0.9006 - val_loss: 0.1282 - val_accuracy: 0.9479\n",
      "Epoch 3/25\n",
      "82/82 [==============================] - 13s 163ms/step - loss: 0.2267 - accuracy: 0.9145 - val_loss: 0.1360 - val_accuracy: 0.9531\n",
      "Epoch 4/25\n",
      "82/82 [==============================] - 13s 162ms/step - loss: 0.1828 - accuracy: 0.9330 - val_loss: 0.5064 - val_accuracy: 0.8125\n",
      "Epoch 5/25\n",
      "82/82 [==============================] - 13s 162ms/step - loss: 0.1697 - accuracy: 0.9430 - val_loss: 0.2249 - val_accuracy: 0.8906\n",
      "Epoch 6/25\n",
      "82/82 [==============================] - 13s 163ms/step - loss: 0.1551 - accuracy: 0.9384 - val_loss: 0.1184 - val_accuracy: 0.9427\n",
      "Epoch 7/25\n",
      "82/82 [==============================] - 13s 163ms/step - loss: 0.1577 - accuracy: 0.9368 - val_loss: 0.1937 - val_accuracy: 0.9531\n",
      "Epoch 8/25\n",
      "82/82 [==============================] - 13s 164ms/step - loss: 0.1542 - accuracy: 0.9445 - val_loss: 0.1445 - val_accuracy: 0.9635\n",
      "Epoch 9/25\n",
      "82/82 [==============================] - 13s 161ms/step - loss: 0.1299 - accuracy: 0.9561 - val_loss: 0.2201 - val_accuracy: 0.9219\n",
      "Epoch 10/25\n",
      "82/82 [==============================] - 13s 160ms/step - loss: 0.1356 - accuracy: 0.9476 - val_loss: 0.0853 - val_accuracy: 0.9740\n",
      "Epoch 11/25\n",
      "82/82 [==============================] - 13s 161ms/step - loss: 0.1036 - accuracy: 0.9599 - val_loss: 0.1802 - val_accuracy: 0.9479\n",
      "Epoch 12/25\n",
      "82/82 [==============================] - 13s 164ms/step - loss: 0.1089 - accuracy: 0.9638 - val_loss: 0.0953 - val_accuracy: 0.9792\n",
      "Epoch 13/25\n",
      "82/82 [==============================] - 13s 162ms/step - loss: 0.1251 - accuracy: 0.9576 - val_loss: 0.1190 - val_accuracy: 0.9531\n",
      "Epoch 14/25\n",
      "82/82 [==============================] - 13s 163ms/step - loss: 0.0910 - accuracy: 0.9676 - val_loss: 0.0662 - val_accuracy: 0.9635\n",
      "Epoch 15/25\n",
      "82/82 [==============================] - 13s 162ms/step - loss: 0.0838 - accuracy: 0.9700 - val_loss: 0.0625 - val_accuracy: 0.9740\n",
      "Epoch 16/25\n",
      "82/82 [==============================] - 13s 164ms/step - loss: 0.0965 - accuracy: 0.9638 - val_loss: 0.1890 - val_accuracy: 0.9427\n",
      "Epoch 17/25\n",
      "82/82 [==============================] - 13s 163ms/step - loss: 0.1023 - accuracy: 0.9653 - val_loss: 0.0635 - val_accuracy: 0.9740\n",
      "Epoch 18/25\n",
      "82/82 [==============================] - 14s 166ms/step - loss: 0.0996 - accuracy: 0.9646 - val_loss: 0.1344 - val_accuracy: 0.9479\n",
      "Epoch 19/25\n",
      "82/82 [==============================] - 13s 161ms/step - loss: 0.1191 - accuracy: 0.9684 - val_loss: 0.1163 - val_accuracy: 0.9688\n",
      "Epoch 20/25\n",
      "82/82 [==============================] - 13s 163ms/step - loss: 0.0915 - accuracy: 0.9738 - val_loss: 0.0856 - val_accuracy: 0.9896\n",
      "Epoch 21/25\n",
      "82/82 [==============================] - 13s 163ms/step - loss: 0.0800 - accuracy: 0.9723 - val_loss: 0.0956 - val_accuracy: 0.9688\n",
      "Epoch 22/25\n",
      "82/82 [==============================] - 13s 164ms/step - loss: 0.0764 - accuracy: 0.9730 - val_loss: 0.1032 - val_accuracy: 0.9740\n",
      "Epoch 23/25\n",
      "82/82 [==============================] - 13s 163ms/step - loss: 0.0772 - accuracy: 0.9707 - val_loss: 0.1175 - val_accuracy: 0.9740\n",
      "Epoch 24/25\n",
      "82/82 [==============================] - 13s 163ms/step - loss: 0.0773 - accuracy: 0.9769 - val_loss: 0.0781 - val_accuracy: 0.9896\n",
      "Epoch 25/25\n",
      "82/82 [==============================] - 13s 163ms/step - loss: 0.0772 - accuracy: 0.9761 - val_loss: 0.1323 - val_accuracy: 0.9740\n"
     ]
    }
   ],
   "source": [
    "#Training the model using RMSProp optimizer\n",
    "hist = model.fit(train, validation_data=test, epochs=25, steps_per_epoch= 82, validation_steps=12, verbose=True)"
   ]
  },
  {
   "cell_type": "code",
   "execution_count": 13,
   "metadata": {
    "colab": {
     "base_uri": "https://localhost:8080/",
     "height": 298
    },
    "executionInfo": {
     "elapsed": 295,
     "status": "ok",
     "timestamp": 1624544480774,
     "user": {
      "displayName": "kumar naidu",
      "photoUrl": "https://lh3.googleusercontent.com/a-/AOh14Gif4eWyq6PJPCeZjQCRckQ1x68It-O755mZHjjJv1I=s64",
      "userId": "02782955877092460365"
     },
     "user_tz": -120
    },
    "id": "a7Lp4TqsF4sX",
    "outputId": "4cf4f139-c24d-403b-902c-81ca28a667f8"
   },
   "outputs": [
    {
     "data": {
      "text/plain": [
       "Text(0.5, 1.0, 'Accurcy curve - RMSProp')"
      ]
     },
     "execution_count": 13,
     "metadata": {
      "tags": []
     },
     "output_type": "execute_result"
    },
    {
     "data": {
      "image/png": "[encoded data removed]",
      "text/plain": [
       "<Figure size 432x288 with 1 Axes>"
      ]
     },
     "metadata": {
      "needs_background": "light",
      "tags": []
     },
     "output_type": "display_data"
    }
   ],
   "source": [
    "#Visualization of the model\n",
    "import matplotlib.pyplot as plt\n",
    "plt.plot(hist.history['accuracy'])\n",
    "plt.plot(hist.history['val_accuracy'])\n",
    "plt.legend(['Train_accuracy','Test_accuracy'])\n",
    "plt.title(\"Accurcy curve - RMSProp\")"
   ]
  },
  {
   "cell_type": "code",
   "execution_count": 14,
   "metadata": {
    "executionInfo": {
     "elapsed": 229,
     "status": "ok",
     "timestamp": 1624544524608,
     "user": {
      "displayName": "kumar naidu",
      "photoUrl": "https://lh3.googleusercontent.com/a-/AOh14Gif4eWyq6PJPCeZjQCRckQ1x68It-O755mZHjjJv1I=s64",
      "userId": "02782955877092460365"
     },
     "user_tz": -120
    },
    "id": "IzfP_Jqw5D6y"
   },
   "outputs": [],
   "source": [
    "#Model Building\n",
    "\n",
    "model = tf.keras.models.Sequential()\n",
    "#Input layer\n",
    "model.add(tf.keras.layers.Conv2D(64,(3,3), activation='relu', input_shape=(150,150,3)))\n",
    "model.add(tf.keras.layers.MaxPooling2D(2,2))\n",
    "\n",
    "#Hidden layer with Two Convolutional layers before MaxPooling\n",
    "model.add(tf.keras.layers.Conv2D(32,(3,3),activation='relu'))\n",
    "model.add(tf.keras.layers.Conv2D(32,(3,3), activation='relu'))\n",
    "model.add(tf.keras.layers.MaxPooling2D(2,2))\n",
    "\n",
    "model.add(tf.keras.layers.Conv2D(32,(3,3), activation='relu'))\n",
    "model.add(tf.keras.layers.Conv2D(32,(3,3), activation='relu'))\n",
    "model.add(tf.keras.layers.MaxPooling2D(2,2))\n",
    "\n",
    "#Flattening the features\n",
    "model.add(tf.keras.layers.Flatten())\n",
    "#Adding the dense layer(ANN)\n",
    "model.add(tf.keras.layers.Dense(units=128, activation='relu'))\n",
    "#model.add(tf.keras.layers.Dense(50, activation='relu'))\n",
    "#Output layer\n",
    "model.add(tf.keras.layers.Dense(1, activation='sigmoid'))\n"
   ]
  },
  {
   "cell_type": "code",
   "execution_count": 15,
   "metadata": {
    "executionInfo": {
     "elapsed": 340,
     "status": "ok",
     "timestamp": 1624544526090,
     "user": {
      "displayName": "kumar naidu",
      "photoUrl": "https://lh3.googleusercontent.com/a-/AOh14Gif4eWyq6PJPCeZjQCRckQ1x68It-O755mZHjjJv1I=s64",
      "userId": "02782955877092460365"
     },
     "user_tz": -120
    },
    "id": "T5nKnzrD5mWU"
   },
   "outputs": [],
   "source": [
    "#Commpilation of the model using the same optimizer (RMSProp)\n",
    "model.compile(optimizer='RMSprop', loss='binary_crossentropy',metrics=['accuracy'])"
   ]
  },
  {
   "cell_type": "code",
   "execution_count": 16,
   "metadata": {
    "colab": {
     "base_uri": "https://localhost:8080/"
    },
    "executionInfo": {
     "elapsed": 283139,
     "status": "ok",
     "timestamp": 1624544816883,
     "user": {
      "displayName": "kumar naidu",
      "photoUrl": "https://lh3.googleusercontent.com/a-/AOh14Gif4eWyq6PJPCeZjQCRckQ1x68It-O755mZHjjJv1I=s64",
      "userId": "02782955877092460365"
     },
     "user_tz": -120
    },
    "id": "JZGEfMCB5snu",
    "outputId": "1c30a226-e931-4df6-b9fc-41fe86bf3497",
    "scrolled": true
   },
   "outputs": [
    {
     "name": "stdout",
     "output_type": "stream",
     "text": [
      "Epoch 1/18\n",
      "82/82 [==============================] - 15s 165ms/step - loss: 0.7034 - accuracy: 0.7003 - val_loss: 0.3230 - val_accuracy: 0.8906\n",
      "Epoch 2/18\n",
      "82/82 [==============================] - 13s 161ms/step - loss: 0.3052 - accuracy: 0.9006 - val_loss: 0.1745 - val_accuracy: 0.9583\n",
      "Epoch 3/18\n",
      "82/82 [==============================] - 13s 160ms/step - loss: 0.2098 - accuracy: 0.9214 - val_loss: 0.1377 - val_accuracy: 0.9427\n",
      "Epoch 4/18\n",
      "82/82 [==============================] - 13s 160ms/step - loss: 0.2092 - accuracy: 0.9260 - val_loss: 0.0960 - val_accuracy: 0.9583\n",
      "Epoch 5/18\n",
      "82/82 [==============================] - 13s 161ms/step - loss: 0.1660 - accuracy: 0.9353 - val_loss: 0.1119 - val_accuracy: 0.9688\n",
      "Epoch 6/18\n",
      "82/82 [==============================] - 13s 162ms/step - loss: 0.1773 - accuracy: 0.9476 - val_loss: 0.2361 - val_accuracy: 0.9531\n",
      "Epoch 7/18\n",
      "82/82 [==============================] - 13s 164ms/step - loss: 0.1225 - accuracy: 0.9584 - val_loss: 0.1165 - val_accuracy: 0.9635\n",
      "Epoch 8/18\n",
      "82/82 [==============================] - 13s 161ms/step - loss: 0.1480 - accuracy: 0.9538 - val_loss: 0.0937 - val_accuracy: 0.9583\n",
      "Epoch 9/18\n",
      "82/82 [==============================] - 13s 161ms/step - loss: 0.1346 - accuracy: 0.9499 - val_loss: 0.7851 - val_accuracy: 0.8073\n",
      "Epoch 10/18\n",
      "82/82 [==============================] - 13s 162ms/step - loss: 0.1676 - accuracy: 0.9484 - val_loss: 0.2001 - val_accuracy: 0.9740\n",
      "Epoch 11/18\n",
      "82/82 [==============================] - 13s 161ms/step - loss: 0.1169 - accuracy: 0.9569 - val_loss: 0.1105 - val_accuracy: 0.9792\n",
      "Epoch 12/18\n",
      "82/82 [==============================] - 13s 164ms/step - loss: 0.1619 - accuracy: 0.9499 - val_loss: 0.1075 - val_accuracy: 0.9792\n",
      "Epoch 13/18\n",
      "82/82 [==============================] - 13s 161ms/step - loss: 0.1158 - accuracy: 0.9576 - val_loss: 0.1000 - val_accuracy: 0.9792\n",
      "Epoch 14/18\n",
      "82/82 [==============================] - 13s 161ms/step - loss: 0.1176 - accuracy: 0.9607 - val_loss: 0.1215 - val_accuracy: 0.9740\n",
      "Epoch 15/18\n",
      "82/82 [==============================] - 13s 161ms/step - loss: 0.0970 - accuracy: 0.9676 - val_loss: 0.0939 - val_accuracy: 0.9792\n",
      "Epoch 16/18\n",
      "82/82 [==============================] - 13s 162ms/step - loss: 0.1099 - accuracy: 0.9630 - val_loss: 0.2616 - val_accuracy: 0.9583\n",
      "Epoch 17/18\n",
      "82/82 [==============================] - 13s 163ms/step - loss: 0.1441 - accuracy: 0.9576 - val_loss: 0.5862 - val_accuracy: 0.9271\n",
      "Epoch 18/18\n",
      "82/82 [==============================] - 13s 161ms/step - loss: 0.0930 - accuracy: 0.9738 - val_loss: 0.1177 - val_accuracy: 0.9792\n"
     ]
    }
   ],
   "source": [
    "#Training the new model\n",
    "histo = model.fit(train, validation_data=test, epochs=18, steps_per_epoch= 82, validation_steps=12, verbose=True)"
   ]
  },
  {
   "cell_type": "code",
   "execution_count": 17,
   "metadata": {
    "colab": {
     "base_uri": "https://localhost:8080/",
     "height": 298
    },
    "executionInfo": {
     "elapsed": 270,
     "status": "ok",
     "timestamp": 1624544871208,
     "user": {
      "displayName": "kumar naidu",
      "photoUrl": "https://lh3.googleusercontent.com/a-/AOh14Gif4eWyq6PJPCeZjQCRckQ1x68It-O755mZHjjJv1I=s64",
      "userId": "02782955877092460365"
     },
     "user_tz": -120
    },
    "id": "rvLa7LbQ5uPt",
    "outputId": "d3d58820-69db-40d4-d9de-eebc3c0e4eb8",
    "scrolled": true
   },
   "outputs": [
    {
     "data": {
      "text/plain": [
       "Text(0.5, 1.0, 'RMSProp Accuracy')"
      ]
     },
     "execution_count": 17,
     "metadata": {
      "tags": []
     },
     "output_type": "execute_result"
    },
    {
     "data": {
      "image/png": "[encoded data removed]",
      "text/plain": [
       "<Figure size 432x288 with 1 Axes>"
      ]
     },
     "metadata": {
      "needs_background": "light",
      "tags": []
     },
     "output_type": "display_data"
    }
   ],
   "source": [
    "#Visualization of the model performance\n",
    "import matplotlib.pyplot as plt\n",
    "plt.plot(histo.history['accuracy'])\n",
    "plt.plot(histo.history['val_accuracy'])\n",
    "plt.title(\"RMSProp Accuracy\")"
   ]
  },
  {
   "cell_type": "markdown",
   "metadata": {},
   "source": [
    "The above model is performing better than the previous one. Therefore, I am training the same model again with another Optimizer called \"ADAM\"."
   ]
  },
  {
   "cell_type": "markdown",
   "metadata": {
    "executionInfo": {
     "elapsed": 420,
     "status": "ok",
     "timestamp": 1624545240470,
     "user": {
      "displayName": "kumar naidu",
      "photoUrl": "https://lh3.googleusercontent.com/a-/AOh14Gif4eWyq6PJPCeZjQCRckQ1x68It-O755mZHjjJv1I=s64",
      "userId": "02782955877092460365"
     },
     "user_tz": -120
    },
    "id": "mGkDE2nXa7WT"
   },
   "source": [
    "## Training the same model using another optimizer \"Adam\"."
   ]
  },
  {
   "cell_type": "code",
   "execution_count": 19,
   "metadata": {
    "executionInfo": {
     "elapsed": 209,
     "status": "ok",
     "timestamp": 1624545256349,
     "user": {
      "displayName": "kumar naidu",
      "photoUrl": "https://lh3.googleusercontent.com/a-/AOh14Gif4eWyq6PJPCeZjQCRckQ1x68It-O755mZHjjJv1I=s64",
      "userId": "02782955877092460365"
     },
     "user_tz": -120
    },
    "id": "9s9iBaVz8eWG"
   },
   "outputs": [],
   "source": [
    "#Import the Optimizer \"Adam\".\n",
    "from keras.optimizers import Adam"
   ]
  },
  {
   "cell_type": "code",
   "execution_count": 20,
   "metadata": {
    "executionInfo": {
     "elapsed": 214,
     "status": "ok",
     "timestamp": 1624545258845,
     "user": {
      "displayName": "kumar naidu",
      "photoUrl": "https://lh3.googleusercontent.com/a-/AOh14Gif4eWyq6PJPCeZjQCRckQ1x68It-O755mZHjjJv1I=s64",
      "userId": "02782955877092460365"
     },
     "user_tz": -120
    },
    "id": "cHYuMA6q8mSu"
   },
   "outputs": [],
   "source": [
    "#Model Building\n",
    "\n",
    "model = tf.keras.models.Sequential()\n",
    "#Input layer\n",
    "model.add(tf.keras.layers.Conv2D(64,(3,3), activation='relu', input_shape=(150,150,3)))\n",
    "model.add(tf.keras.layers.MaxPooling2D(2,2))\n",
    "#CNN layers\n",
    "model.add(tf.keras.layers.Conv2D(32,(3,3),activation='relu'))\n",
    "model.add(tf.keras.layers.Conv2D(32,(3,3), activation='relu'))\n",
    "model.add(tf.keras.layers.MaxPooling2D(2,2))\n",
    "\n",
    "model.add(tf.keras.layers.Conv2D(32,(3,3), activation='relu'))\n",
    "model.add(tf.keras.layers.Conv2D(32,(3,3), activation='relu'))\n",
    "model.add(tf.keras.layers.MaxPooling2D(2,2))\n",
    "#Flattening\n",
    "model.add(tf.keras.layers.Flatten())\n",
    "#Dense layers\n",
    "model.add(tf.keras.layers.Dense(units=128, activation='relu'))\n",
    "#model.add(tf.keras.layers.Dense(50, activation='relu'))\n",
    "#output layer\n",
    "model.add(tf.keras.layers.Dense(1, activation='sigmoid'))"
   ]
  },
  {
   "cell_type": "code",
   "execution_count": 21,
   "metadata": {
    "executionInfo": {
     "elapsed": 237,
     "status": "ok",
     "timestamp": 1624545263126,
     "user": {
      "displayName": "kumar naidu",
      "photoUrl": "https://lh3.googleusercontent.com/a-/AOh14Gif4eWyq6PJPCeZjQCRckQ1x68It-O755mZHjjJv1I=s64",
      "userId": "02782955877092460365"
     },
     "user_tz": -120
    },
    "id": "3wuYw7GX8qfR"
   },
   "outputs": [],
   "source": [
    "#Model compilation\n",
    "model.compile(optimizer='Adam', loss='binary_crossentropy',metrics=['accuracy'])"
   ]
  },
  {
   "cell_type": "code",
   "execution_count": 22,
   "metadata": {
    "colab": {
     "base_uri": "https://localhost:8080/"
    },
    "executionInfo": {
     "elapsed": 349347,
     "status": "ok",
     "timestamp": 1624545626879,
     "user": {
      "displayName": "kumar naidu",
      "photoUrl": "https://lh3.googleusercontent.com/a-/AOh14Gif4eWyq6PJPCeZjQCRckQ1x68It-O755mZHjjJv1I=s64",
      "userId": "02782955877092460365"
     },
     "user_tz": -120
    },
    "id": "niZQVfd18xCl",
    "outputId": "2740856a-9c85-4186-c88c-240ef24d0d9d",
    "scrolled": true
   },
   "outputs": [
    {
     "name": "stdout",
     "output_type": "stream",
     "text": [
      "Epoch 1/23\n",
      "82/82 [==============================] - 14s 162ms/step - loss: 0.4176 - accuracy: 0.7966 - val_loss: 0.1948 - val_accuracy: 0.9323\n",
      "Epoch 2/23\n",
      "82/82 [==============================] - 13s 164ms/step - loss: 0.1874 - accuracy: 0.9307 - val_loss: 0.1256 - val_accuracy: 0.9583\n",
      "Epoch 3/23\n",
      "82/82 [==============================] - 13s 160ms/step - loss: 0.2416 - accuracy: 0.9068 - val_loss: 0.1666 - val_accuracy: 0.9583\n",
      "Epoch 4/23\n",
      "82/82 [==============================] - 13s 161ms/step - loss: 0.1867 - accuracy: 0.9307 - val_loss: 0.1241 - val_accuracy: 0.9635\n",
      "Epoch 5/23\n",
      "82/82 [==============================] - 13s 160ms/step - loss: 0.1276 - accuracy: 0.9515 - val_loss: 0.1149 - val_accuracy: 0.9635\n",
      "Epoch 6/23\n",
      "82/82 [==============================] - 13s 161ms/step - loss: 0.1178 - accuracy: 0.9538 - val_loss: 0.1188 - val_accuracy: 0.9740\n",
      "Epoch 7/23\n",
      "82/82 [==============================] - 13s 158ms/step - loss: 0.0994 - accuracy: 0.9653 - val_loss: 0.1688 - val_accuracy: 0.9688\n",
      "Epoch 8/23\n",
      "82/82 [==============================] - 13s 163ms/step - loss: 0.0988 - accuracy: 0.9622 - val_loss: 0.0672 - val_accuracy: 0.9740\n",
      "Epoch 9/23\n",
      "82/82 [==============================] - 13s 160ms/step - loss: 0.0983 - accuracy: 0.9638 - val_loss: 0.0601 - val_accuracy: 0.9792\n",
      "Epoch 10/23\n",
      "82/82 [==============================] - 13s 161ms/step - loss: 0.1420 - accuracy: 0.9522 - val_loss: 0.1770 - val_accuracy: 0.9427\n",
      "Epoch 11/23\n",
      "82/82 [==============================] - 13s 159ms/step - loss: 0.1068 - accuracy: 0.9584 - val_loss: 0.1042 - val_accuracy: 0.9688\n",
      "Epoch 12/23\n",
      "82/82 [==============================] - 13s 160ms/step - loss: 0.1060 - accuracy: 0.9661 - val_loss: 0.0873 - val_accuracy: 0.9531\n",
      "Epoch 13/23\n",
      "82/82 [==============================] - 13s 161ms/step - loss: 0.0952 - accuracy: 0.9661 - val_loss: 0.0847 - val_accuracy: 0.9688\n",
      "Epoch 14/23\n",
      "82/82 [==============================] - 13s 162ms/step - loss: 0.0927 - accuracy: 0.9592 - val_loss: 0.0671 - val_accuracy: 0.9844\n",
      "Epoch 15/23\n",
      "82/82 [==============================] - 13s 160ms/step - loss: 0.0862 - accuracy: 0.9638 - val_loss: 0.0560 - val_accuracy: 0.9792\n",
      "Epoch 16/23\n",
      "82/82 [==============================] - 13s 161ms/step - loss: 0.0672 - accuracy: 0.9738 - val_loss: 0.0640 - val_accuracy: 0.9740\n",
      "Epoch 17/23\n",
      "82/82 [==============================] - 13s 164ms/step - loss: 0.0598 - accuracy: 0.9800 - val_loss: 0.0183 - val_accuracy: 0.9948\n",
      "Epoch 18/23\n",
      "82/82 [==============================] - 13s 162ms/step - loss: 0.0667 - accuracy: 0.9730 - val_loss: 0.0391 - val_accuracy: 0.9948\n",
      "Epoch 19/23\n",
      "82/82 [==============================] - 13s 163ms/step - loss: 0.0571 - accuracy: 0.9807 - val_loss: 0.0521 - val_accuracy: 0.9792\n",
      "Epoch 20/23\n",
      "82/82 [==============================] - 13s 164ms/step - loss: 0.0609 - accuracy: 0.9746 - val_loss: 0.0215 - val_accuracy: 0.9948\n",
      "Epoch 21/23\n",
      "82/82 [==============================] - 13s 160ms/step - loss: 0.0548 - accuracy: 0.9792 - val_loss: 0.0293 - val_accuracy: 0.9896\n",
      "Epoch 22/23\n",
      "82/82 [==============================] - 13s 162ms/step - loss: 0.0583 - accuracy: 0.9746 - val_loss: 0.0196 - val_accuracy: 0.9896\n",
      "Epoch 23/23\n",
      "82/82 [==============================] - 13s 161ms/step - loss: 0.0991 - accuracy: 0.9661 - val_loss: 0.1591 - val_accuracy: 0.9479\n"
     ]
    }
   ],
   "source": [
    "#Training the model witht ADAM Optimizer\n",
    "histor = model.fit(train, validation_data=test, epochs=23, steps_per_epoch= 82, validation_steps=12, verbose=True)"
   ]
  },
  {
   "cell_type": "code",
   "execution_count": 23,
   "metadata": {
    "colab": {
     "base_uri": "https://localhost:8080/",
     "height": 298
    },
    "executionInfo": {
     "elapsed": 313,
     "status": "ok",
     "timestamp": 1624545652124,
     "user": {
      "displayName": "kumar naidu",
      "photoUrl": "https://lh3.googleusercontent.com/a-/AOh14Gif4eWyq6PJPCeZjQCRckQ1x68It-O755mZHjjJv1I=s64",
      "userId": "02782955877092460365"
     },
     "user_tz": -120
    },
    "id": "sYYh-LaGBS4E",
    "outputId": "f847e428-d98d-481e-d9a6-624a0f4434d6"
   },
   "outputs": [
    {
     "data": {
      "text/plain": [
       "Text(0.5, 1.0, 'Adam Accuracy')"
      ]
     },
     "execution_count": 23,
     "metadata": {
      "tags": []
     },
     "output_type": "execute_result"
    },
    {
     "data": {
      "image/png": "[encoded data removed]",
      "text/plain": [
       "<Figure size 432x288 with 1 Axes>"
      ]
     },
     "metadata": {
      "needs_background": "light",
      "tags": []
     },
     "output_type": "display_data"
    }
   ],
   "source": [
    "#Visualizing the accuracy of the model\n",
    "import matplotlib.pyplot as plt\n",
    "plt.plot(histor.history['accuracy'])\n",
    "plt.plot(histor.history['val_accuracy'])\n",
    "plt.legend(['Train_accuracy', 'Test_Accuracy'])\n",
    "plt.title(\"Adam Accuracy\")"
   ]
  },
  {
   "cell_type": "markdown",
   "metadata": {},
   "source": [
    "Since the adam is performing better with 99.48% test accuracy, there are high chances that it would give 100% test accuracy if I can increase the number of epochs.\n",
    "\n",
    "Also, I am using Early Stopping callbacks method to stop training the model when it gives the required accuracy."
   ]
  },
  {
   "cell_type": "code",
   "execution_count": 29,
   "metadata": {
    "executionInfo": {
     "elapsed": 213,
     "status": "ok",
     "timestamp": 1624547401518,
     "user": {
      "displayName": "kumar naidu",
      "photoUrl": "https://lh3.googleusercontent.com/a-/AOh14Gif4eWyq6PJPCeZjQCRckQ1x68It-O755mZHjjJv1I=s64",
      "userId": "02782955877092460365"
     },
     "user_tz": -120
    },
    "id": "KaLemsKvPYFr"
   },
   "outputs": [],
   "source": [
    "#Defining the Early stopping method\n",
    "class mythreshold(tf.keras.callbacks.Callback):\n",
    "  def __init__(self, cl):\n",
    "    super(mythreshold, self).__init__()\n",
    "    self.cl = cl\n",
    "\n",
    "  def on_epoch_end(self, epoch, logs=None):\n",
    "    train_score = logs['accuracy']\n",
    "    test_score = logs['val_accuracy']\n",
    "\n",
    "    if (test_score>train_score and test_score>self.cl) or test_score==1:\n",
    "      self.model.stop_training=True\n"
   ]
  },
  {
   "cell_type": "code",
   "execution_count": null,
   "metadata": {
    "id": "UWANP-0RfAa4"
   },
   "outputs": [],
   "source": []
  },
  {
   "cell_type": "code",
   "execution_count": 30,
   "metadata": {
    "colab": {
     "base_uri": "https://localhost:8080/"
    },
    "executionInfo": {
     "elapsed": 1597875,
     "status": "ok",
     "timestamp": 1624549001708,
     "user": {
      "displayName": "kumar naidu",
      "photoUrl": "https://lh3.googleusercontent.com/a-/AOh14Gif4eWyq6PJPCeZjQCRckQ1x68It-O755mZHjjJv1I=s64",
      "userId": "02782955877092460365"
     },
     "user_tz": -120
    },
    "id": "iJA7vNIK83IE",
    "outputId": "1a1af4c5-2e29-4bf2-877c-47576997e968"
   },
   "outputs": [
    {
     "name": "stdout",
     "output_type": "stream",
     "text": [
      "Epoch 1/150\n",
      "82/82 [==============================] - 13s 161ms/step - loss: 0.0174 - accuracy: 0.9931 - val_loss: 0.0305 - val_accuracy: 0.9844\n",
      "Epoch 2/150\n",
      "82/82 [==============================] - 13s 161ms/step - loss: 0.0213 - accuracy: 0.9923 - val_loss: 0.0524 - val_accuracy: 0.9844\n",
      "Epoch 3/150\n",
      "82/82 [==============================] - 13s 161ms/step - loss: 0.0197 - accuracy: 0.9946 - val_loss: 0.1098 - val_accuracy: 0.9688\n",
      "Epoch 4/150\n",
      "82/82 [==============================] - 13s 160ms/step - loss: 0.0236 - accuracy: 0.9938 - val_loss: 0.0371 - val_accuracy: 0.9896\n",
      "Epoch 5/150\n",
      "82/82 [==============================] - 13s 160ms/step - loss: 0.0282 - accuracy: 0.9931 - val_loss: 0.1063 - val_accuracy: 0.9844\n",
      "Epoch 6/150\n",
      "82/82 [==============================] - 13s 159ms/step - loss: 0.0128 - accuracy: 0.9946 - val_loss: 0.0462 - val_accuracy: 0.9792\n",
      "Epoch 7/150\n",
      "82/82 [==============================] - 13s 161ms/step - loss: 0.0088 - accuracy: 0.9961 - val_loss: 0.0306 - val_accuracy: 0.9896\n",
      "Epoch 8/150\n",
      "82/82 [==============================] - 13s 160ms/step - loss: 0.0154 - accuracy: 0.9946 - val_loss: 0.0300 - val_accuracy: 0.9896\n",
      "Epoch 9/150\n",
      "82/82 [==============================] - 13s 161ms/step - loss: 0.0143 - accuracy: 0.9977 - val_loss: 0.0509 - val_accuracy: 0.9844\n",
      "Epoch 10/150\n",
      "82/82 [==============================] - 13s 163ms/step - loss: 0.0175 - accuracy: 0.9915 - val_loss: 0.0365 - val_accuracy: 0.9844\n",
      "Epoch 11/150\n",
      "82/82 [==============================] - 13s 162ms/step - loss: 0.0174 - accuracy: 0.9931 - val_loss: 0.0611 - val_accuracy: 0.9792\n",
      "Epoch 12/150\n",
      "82/82 [==============================] - 13s 162ms/step - loss: 0.0102 - accuracy: 0.9954 - val_loss: 0.0282 - val_accuracy: 0.9896\n",
      "Epoch 13/150\n",
      "82/82 [==============================] - 13s 161ms/step - loss: 0.0182 - accuracy: 0.9938 - val_loss: 0.0599 - val_accuracy: 0.9844\n",
      "Epoch 14/150\n",
      "82/82 [==============================] - 13s 160ms/step - loss: 0.0217 - accuracy: 0.9923 - val_loss: 0.0303 - val_accuracy: 0.9948\n",
      "Epoch 15/150\n",
      "82/82 [==============================] - 13s 160ms/step - loss: 0.0221 - accuracy: 0.9923 - val_loss: 0.0642 - val_accuracy: 0.9844\n",
      "Epoch 16/150\n",
      "82/82 [==============================] - 13s 163ms/step - loss: 0.0112 - accuracy: 0.9969 - val_loss: 0.0172 - val_accuracy: 0.9948\n",
      "Epoch 17/150\n",
      "82/82 [==============================] - 13s 161ms/step - loss: 0.0428 - accuracy: 0.9900 - val_loss: 0.0130 - val_accuracy: 0.9948\n",
      "Epoch 18/150\n",
      "82/82 [==============================] - 13s 160ms/step - loss: 0.0180 - accuracy: 0.9931 - val_loss: 0.0753 - val_accuracy: 0.9844\n",
      "Epoch 19/150\n",
      "82/82 [==============================] - 13s 161ms/step - loss: 0.0194 - accuracy: 0.9931 - val_loss: 0.0437 - val_accuracy: 0.9844\n",
      "Epoch 20/150\n",
      "82/82 [==============================] - 13s 160ms/step - loss: 0.0153 - accuracy: 0.9961 - val_loss: 0.0329 - val_accuracy: 0.9948\n",
      "Epoch 21/150\n",
      "82/82 [==============================] - 13s 161ms/step - loss: 0.0190 - accuracy: 0.9938 - val_loss: 0.0319 - val_accuracy: 0.9844\n",
      "Epoch 22/150\n",
      "82/82 [==============================] - 13s 160ms/step - loss: 0.0118 - accuracy: 0.9954 - val_loss: 0.0184 - val_accuracy: 0.9948\n",
      "Epoch 23/150\n",
      "82/82 [==============================] - 13s 164ms/step - loss: 0.0074 - accuracy: 0.9985 - val_loss: 0.0335 - val_accuracy: 0.9896\n",
      "Epoch 24/150\n",
      "82/82 [==============================] - 13s 159ms/step - loss: 0.0144 - accuracy: 0.9954 - val_loss: 0.0208 - val_accuracy: 0.9948\n",
      "Epoch 25/150\n",
      "82/82 [==============================] - 13s 160ms/step - loss: 0.0057 - accuracy: 1.0000 - val_loss: 0.0249 - val_accuracy: 0.9948\n",
      "Epoch 26/150\n",
      "82/82 [==============================] - 13s 160ms/step - loss: 0.0054 - accuracy: 0.9985 - val_loss: 0.0331 - val_accuracy: 0.9844\n",
      "Epoch 27/150\n",
      "82/82 [==============================] - 13s 161ms/step - loss: 0.0502 - accuracy: 0.9861 - val_loss: 0.0465 - val_accuracy: 0.9792\n",
      "Epoch 28/150\n",
      "82/82 [==============================] - 13s 160ms/step - loss: 0.0154 - accuracy: 0.9946 - val_loss: 0.0596 - val_accuracy: 0.9792\n",
      "Epoch 29/150\n",
      "82/82 [==============================] - 13s 161ms/step - loss: 0.0227 - accuracy: 0.9915 - val_loss: 0.0305 - val_accuracy: 0.9896\n",
      "Epoch 30/150\n",
      "82/82 [==============================] - 13s 160ms/step - loss: 0.0102 - accuracy: 0.9969 - val_loss: 0.0283 - val_accuracy: 0.9948\n",
      "Epoch 31/150\n",
      "82/82 [==============================] - 13s 160ms/step - loss: 0.0140 - accuracy: 0.9946 - val_loss: 0.0531 - val_accuracy: 0.9844\n",
      "Epoch 32/150\n",
      "82/82 [==============================] - 13s 163ms/step - loss: 0.0105 - accuracy: 0.9969 - val_loss: 0.0179 - val_accuracy: 0.9948\n",
      "Epoch 33/150\n",
      "82/82 [==============================] - 13s 161ms/step - loss: 0.0121 - accuracy: 0.9946 - val_loss: 0.0659 - val_accuracy: 0.9844\n",
      "Epoch 34/150\n",
      "82/82 [==============================] - 13s 161ms/step - loss: 0.0052 - accuracy: 0.9985 - val_loss: 0.0211 - val_accuracy: 0.9896\n",
      "Epoch 35/150\n",
      "82/82 [==============================] - 13s 162ms/step - loss: 0.0068 - accuracy: 0.9969 - val_loss: 0.0162 - val_accuracy: 0.9844\n",
      "Epoch 36/150\n",
      "82/82 [==============================] - 13s 160ms/step - loss: 0.0028 - accuracy: 0.9992 - val_loss: 0.0229 - val_accuracy: 0.9948\n",
      "Epoch 37/150\n",
      "82/82 [==============================] - 13s 163ms/step - loss: 0.0030 - accuracy: 0.9992 - val_loss: 0.0364 - val_accuracy: 0.9896\n",
      "Epoch 38/150\n",
      "82/82 [==============================] - 13s 161ms/step - loss: 0.0011 - accuracy: 0.9992 - val_loss: 0.0195 - val_accuracy: 0.9948\n",
      "Epoch 39/150\n",
      "82/82 [==============================] - 13s 161ms/step - loss: 0.0309 - accuracy: 0.9931 - val_loss: 0.0599 - val_accuracy: 0.9896\n",
      "Epoch 40/150\n",
      "82/82 [==============================] - 13s 163ms/step - loss: 0.0160 - accuracy: 0.9923 - val_loss: 0.0461 - val_accuracy: 0.9948\n",
      "Epoch 41/150\n",
      "82/82 [==============================] - 13s 162ms/step - loss: 0.0126 - accuracy: 0.9969 - val_loss: 0.0450 - val_accuracy: 0.9792\n",
      "Epoch 42/150\n",
      "82/82 [==============================] - 13s 160ms/step - loss: 0.0156 - accuracy: 0.9946 - val_loss: 0.0127 - val_accuracy: 0.9896\n",
      "Epoch 43/150\n",
      "82/82 [==============================] - 13s 159ms/step - loss: 0.0332 - accuracy: 0.9923 - val_loss: 0.0145 - val_accuracy: 0.9896\n",
      "Epoch 44/150\n",
      "82/82 [==============================] - 13s 159ms/step - loss: 0.0092 - accuracy: 0.9969 - val_loss: 0.0122 - val_accuracy: 0.9948\n",
      "Epoch 45/150\n",
      "82/82 [==============================] - 13s 163ms/step - loss: 0.0559 - accuracy: 0.9807 - val_loss: 0.1211 - val_accuracy: 0.9688\n",
      "Epoch 46/150\n",
      "82/82 [==============================] - 13s 161ms/step - loss: 0.0190 - accuracy: 0.9931 - val_loss: 0.0428 - val_accuracy: 0.9896\n",
      "Epoch 47/150\n",
      "82/82 [==============================] - 13s 159ms/step - loss: 0.0071 - accuracy: 0.9969 - val_loss: 0.0320 - val_accuracy: 0.9896\n",
      "Epoch 48/150\n",
      "82/82 [==============================] - 13s 161ms/step - loss: 0.0241 - accuracy: 0.9938 - val_loss: 0.0256 - val_accuracy: 0.9948\n",
      "Epoch 49/150\n",
      "82/82 [==============================] - 13s 160ms/step - loss: 0.0129 - accuracy: 0.9969 - val_loss: 0.0276 - val_accuracy: 0.9948\n",
      "Epoch 50/150\n",
      "82/82 [==============================] - 13s 159ms/step - loss: 0.0031 - accuracy: 0.9992 - val_loss: 0.0331 - val_accuracy: 0.9896\n",
      "Epoch 51/150\n",
      "82/82 [==============================] - 13s 162ms/step - loss: 0.0024 - accuracy: 1.0000 - val_loss: 0.0268 - val_accuracy: 0.9896\n",
      "Epoch 52/150\n",
      "82/82 [==============================] - 13s 159ms/step - loss: 0.0220 - accuracy: 0.9954 - val_loss: 0.0589 - val_accuracy: 0.9896\n",
      "Epoch 53/150\n",
      "82/82 [==============================] - 13s 160ms/step - loss: 0.0208 - accuracy: 0.9946 - val_loss: 0.0194 - val_accuracy: 0.9948\n",
      "Epoch 54/150\n",
      "82/82 [==============================] - 13s 161ms/step - loss: 0.0492 - accuracy: 0.9854 - val_loss: 0.0804 - val_accuracy: 0.9792\n",
      "Epoch 55/150\n",
      "82/82 [==============================] - 13s 161ms/step - loss: 0.0258 - accuracy: 0.9892 - val_loss: 0.0233 - val_accuracy: 0.9844\n",
      "Epoch 56/150\n",
      "82/82 [==============================] - 13s 160ms/step - loss: 0.0124 - accuracy: 0.9961 - val_loss: 0.0171 - val_accuracy: 0.9896\n",
      "Epoch 57/150\n",
      "82/82 [==============================] - 13s 162ms/step - loss: 0.0099 - accuracy: 0.9985 - val_loss: 0.0143 - val_accuracy: 0.9948\n",
      "Epoch 58/150\n",
      "82/82 [==============================] - 13s 161ms/step - loss: 0.0033 - accuracy: 0.9992 - val_loss: 0.0214 - val_accuracy: 0.9844\n",
      "Epoch 59/150\n",
      "82/82 [==============================] - 13s 163ms/step - loss: 0.0071 - accuracy: 0.9977 - val_loss: 0.0136 - val_accuracy: 0.9948\n",
      "Epoch 60/150\n",
      "82/82 [==============================] - 13s 161ms/step - loss: 0.0020 - accuracy: 1.0000 - val_loss: 0.0204 - val_accuracy: 0.9844\n",
      "Epoch 61/150\n",
      "82/82 [==============================] - 13s 161ms/step - loss: 0.0040 - accuracy: 0.9992 - val_loss: 0.0504 - val_accuracy: 0.9844\n",
      "Epoch 62/150\n",
      "82/82 [==============================] - 13s 159ms/step - loss: 0.0049 - accuracy: 0.9985 - val_loss: 0.0722 - val_accuracy: 0.9896\n",
      "Epoch 63/150\n",
      "82/82 [==============================] - 13s 160ms/step - loss: 0.0315 - accuracy: 0.9884 - val_loss: 0.0768 - val_accuracy: 0.9844\n",
      "Epoch 64/150\n",
      "82/82 [==============================] - 13s 160ms/step - loss: 0.0117 - accuracy: 0.9946 - val_loss: 0.0459 - val_accuracy: 0.9896\n",
      "Epoch 65/150\n",
      "82/82 [==============================] - 13s 161ms/step - loss: 0.0029 - accuracy: 1.0000 - val_loss: 0.0130 - val_accuracy: 0.9948\n",
      "Epoch 66/150\n",
      "82/82 [==============================] - 13s 161ms/step - loss: 0.0149 - accuracy: 0.9923 - val_loss: 0.0394 - val_accuracy: 0.9844\n",
      "Epoch 67/150\n",
      "82/82 [==============================] - 13s 161ms/step - loss: 0.0168 - accuracy: 0.9938 - val_loss: 0.0158 - val_accuracy: 0.9896\n",
      "Epoch 68/150\n",
      "82/82 [==============================] - 13s 161ms/step - loss: 0.0084 - accuracy: 0.9969 - val_loss: 0.0813 - val_accuracy: 0.9740\n",
      "Epoch 69/150\n",
      "82/82 [==============================] - 13s 162ms/step - loss: 0.0100 - accuracy: 0.9961 - val_loss: 0.1127 - val_accuracy: 0.9792\n",
      "Epoch 70/150\n",
      "82/82 [==============================] - 13s 161ms/step - loss: 0.0977 - accuracy: 0.9723 - val_loss: 0.0701 - val_accuracy: 0.9740\n",
      "Epoch 71/150\n",
      "82/82 [==============================] - 13s 162ms/step - loss: 0.0162 - accuracy: 0.9931 - val_loss: 0.1132 - val_accuracy: 0.9740\n",
      "Epoch 72/150\n",
      "82/82 [==============================] - 13s 165ms/step - loss: 0.0209 - accuracy: 0.9931 - val_loss: 0.0549 - val_accuracy: 0.9896\n",
      "Epoch 73/150\n",
      "82/82 [==============================] - 13s 162ms/step - loss: 0.0189 - accuracy: 0.9931 - val_loss: 0.0127 - val_accuracy: 0.9948\n",
      "Epoch 74/150\n",
      "82/82 [==============================] - 13s 162ms/step - loss: 0.0184 - accuracy: 0.9938 - val_loss: 0.0297 - val_accuracy: 0.9844\n",
      "Epoch 75/150\n",
      "82/82 [==============================] - 13s 161ms/step - loss: 0.0084 - accuracy: 0.9977 - val_loss: 0.0203 - val_accuracy: 0.9896\n",
      "Epoch 76/150\n",
      "82/82 [==============================] - 13s 164ms/step - loss: 0.0051 - accuracy: 0.9977 - val_loss: 0.0169 - val_accuracy: 0.9844\n",
      "Epoch 77/150\n",
      "82/82 [==============================] - 13s 162ms/step - loss: 0.0073 - accuracy: 0.9992 - val_loss: 0.0288 - val_accuracy: 0.9948\n",
      "Epoch 78/150\n",
      "82/82 [==============================] - 13s 162ms/step - loss: 0.0128 - accuracy: 0.9969 - val_loss: 0.0263 - val_accuracy: 0.9844\n",
      "Epoch 79/150\n",
      "82/82 [==============================] - 13s 164ms/step - loss: 0.0091 - accuracy: 0.9961 - val_loss: 0.0623 - val_accuracy: 0.9792\n",
      "Epoch 80/150\n",
      "82/82 [==============================] - 13s 162ms/step - loss: 0.0038 - accuracy: 0.9992 - val_loss: 0.0209 - val_accuracy: 0.9948\n",
      "Epoch 81/150\n",
      "82/82 [==============================] - 13s 162ms/step - loss: 0.0163 - accuracy: 0.9938 - val_loss: 0.0502 - val_accuracy: 0.9896\n",
      "Epoch 82/150\n",
      "82/82 [==============================] - 13s 161ms/step - loss: 0.0112 - accuracy: 0.9969 - val_loss: 0.0470 - val_accuracy: 0.9948\n",
      "Epoch 83/150\n",
      "82/82 [==============================] - 13s 162ms/step - loss: 0.0158 - accuracy: 0.9961 - val_loss: 0.0501 - val_accuracy: 0.9896\n",
      "Epoch 84/150\n",
      "82/82 [==============================] - 13s 161ms/step - loss: 0.0095 - accuracy: 0.9969 - val_loss: 0.0465 - val_accuracy: 0.9896\n",
      "Epoch 85/150\n",
      "82/82 [==============================] - 13s 161ms/step - loss: 0.0166 - accuracy: 0.9938 - val_loss: 0.0383 - val_accuracy: 0.9896\n",
      "Epoch 86/150\n",
      "82/82 [==============================] - 13s 163ms/step - loss: 0.0101 - accuracy: 0.9969 - val_loss: 0.1100 - val_accuracy: 0.9740\n",
      "Epoch 87/150\n",
      "82/82 [==============================] - 13s 161ms/step - loss: 0.0292 - accuracy: 0.9900 - val_loss: 0.0364 - val_accuracy: 0.9844\n",
      "Epoch 88/150\n",
      "82/82 [==============================] - 13s 162ms/step - loss: 0.0025 - accuracy: 1.0000 - val_loss: 0.0299 - val_accuracy: 0.9896\n",
      "Epoch 89/150\n",
      "82/82 [==============================] - 13s 161ms/step - loss: 0.0039 - accuracy: 0.9992 - val_loss: 0.0289 - val_accuracy: 0.9948\n",
      "Epoch 90/150\n",
      "82/82 [==============================] - 13s 161ms/step - loss: 0.0043 - accuracy: 1.0000 - val_loss: 0.0368 - val_accuracy: 0.9896\n",
      "Epoch 91/150\n",
      "82/82 [==============================] - 13s 164ms/step - loss: 0.0014 - accuracy: 1.0000 - val_loss: 0.0453 - val_accuracy: 0.9844\n",
      "Epoch 92/150\n",
      "82/82 [==============================] - 13s 162ms/step - loss: 0.0049 - accuracy: 0.9985 - val_loss: 0.0354 - val_accuracy: 0.9948\n",
      "Epoch 93/150\n",
      "82/82 [==============================] - 13s 160ms/step - loss: 0.0179 - accuracy: 0.9946 - val_loss: 0.1628 - val_accuracy: 0.9792\n",
      "Epoch 94/150\n",
      "82/82 [==============================] - 13s 162ms/step - loss: 0.0232 - accuracy: 0.9915 - val_loss: 0.0747 - val_accuracy: 0.9792\n",
      "Epoch 95/150\n",
      "82/82 [==============================] - 13s 161ms/step - loss: 0.0062 - accuracy: 0.9985 - val_loss: 0.0061 - val_accuracy: 1.0000\n"
     ]
    }
   ],
   "source": [
    "#Calling the Early stopping method\n",
    "Earli_stop = mythreshold(cl=1.0) #here I have given threshold 100%. \n",
    "\n",
    "#Training the model with early stopping method.\n",
    "history = model.fit(train, validation_data=test, epochs=150, steps_per_epoch= 82, validation_steps=12, verbose=True, callbacks=[Earli_stop])"
   ]
  },
  {
   "cell_type": "code",
   "execution_count": 31,
   "metadata": {
    "colab": {
     "base_uri": "https://localhost:8080/",
     "height": 298
    },
    "executionInfo": {
     "elapsed": 426,
     "status": "ok",
     "timestamp": 1624550066072,
     "user": {
      "displayName": "kumar naidu",
      "photoUrl": "https://lh3.googleusercontent.com/a-/AOh14Gif4eWyq6PJPCeZjQCRckQ1x68It-O755mZHjjJv1I=s64",
      "userId": "02782955877092460365"
     },
     "user_tz": -120
    },
    "id": "mBpuh_kSBwZU",
    "outputId": "c0321d43-9d63-4991-fabe-aaadf7512227",
    "scrolled": true
   },
   "outputs": [
    {
     "data": {
      "text/plain": [
       "Text(0.5, 1.0, 'Adam Accuracy')"
      ]
     },
     "execution_count": 31,
     "metadata": {
      "tags": []
     },
     "output_type": "execute_result"
    },
    {
     "data": {
      "image/png": "[encoded data removed]",
      "text/plain": [
       "<Figure size 432x288 with 1 Axes>"
      ]
     },
     "metadata": {
      "needs_background": "light",
      "tags": []
     },
     "output_type": "display_data"
    }
   ],
   "source": [
    "#Visualizing the performance\n",
    "import matplotlib.pyplot as plt\n",
    "plt.plot(history.history['accuracy'])\n",
    "plt.plot(history.history['val_accuracy'])\n",
    "plt.legend(['Train_accuracy', 'Test_Accuracy'])\n",
    "plt.title(\"Adam Accuracy\")"
   ]
  },
  {
   "cell_type": "markdown",
   "metadata": {},
   "source": [
    "#### The above trained model gave a generalized model with test accuracy of 100% and train accuracy of 99.85%. Therefore, I will save the this as a final model."
   ]
  },
  {
   "cell_type": "code",
   "execution_count": 32,
   "metadata": {
    "colab": {
     "base_uri": "https://localhost:8080/"
    },
    "executionInfo": {
     "elapsed": 1415,
     "status": "ok",
     "timestamp": 1624550113116,
     "user": {
      "displayName": "kumar naidu",
      "photoUrl": "https://lh3.googleusercontent.com/a-/AOh14Gif4eWyq6PJPCeZjQCRckQ1x68It-O755mZHjjJv1I=s64",
      "userId": "02782955877092460365"
     },
     "user_tz": -120
    },
    "id": "lda-drDMuyOK",
    "outputId": "48795b8c-c756-488e-9eaa-19b434772fb5"
   },
   "outputs": [
    {
     "name": "stdout",
     "output_type": "stream",
     "text": [
      "INFO:tensorflow:Assets written to: Face_Mask.tf/assets\n"
     ]
    }
   ],
   "source": [
    "#Save the model for tensorflow 2.0 version.\n",
    "model.save(\"Face_Mask.tf\")"
   ]
  },
  {
   "cell_type": "code",
   "execution_count": 33,
   "metadata": {
    "executionInfo": {
     "elapsed": 234,
     "status": "ok",
     "timestamp": 1624550147540,
     "user": {
      "displayName": "kumar naidu",
      "photoUrl": "https://lh3.googleusercontent.com/a-/AOh14Gif4eWyq6PJPCeZjQCRckQ1x68It-O755mZHjjJv1I=s64",
      "userId": "02782955877092460365"
     },
     "user_tz": -120
    },
    "id": "bppsyadlu6Fy"
   },
   "outputs": [],
   "source": [
    "#Save the model for tensorflow 1 version.\n",
    "model.save(\"Facemask_.h5\")"
   ]
  },
  {
   "cell_type": "markdown",
   "metadata": {
    "id": "8Ox1n9LbaErb"
   },
   "source": [
    "## Prediction stage"
   ]
  },
  {
   "cell_type": "code",
   "execution_count": 1,
   "metadata": {},
   "outputs": [],
   "source": [
    "#Import the required libraries\n",
    "import pandas as pd\n",
    "import numpy as np\n",
    "import tensorflow as tf\n",
    "import matplotlib.pyplot as plt"
   ]
  },
  {
   "cell_type": "code",
   "execution_count": 2,
   "metadata": {},
   "outputs": [],
   "source": [
    "#Library ot load the model\n",
    "from keras.models import load_model"
   ]
  },
  {
   "cell_type": "code",
   "execution_count": 3,
   "metadata": {},
   "outputs": [],
   "source": [
    "from keras.preprocessing import image "
   ]
  },
  {
   "cell_type": "code",
   "execution_count": 4,
   "metadata": {},
   "outputs": [],
   "source": [
    "#Loading the saved model as mymodel\n",
    "mymodel = load_model('Facemask_.h5')"
   ]
  },
  {
   "cell_type": "code",
   "execution_count": 5,
   "metadata": {},
   "outputs": [
    {
     "data": {
      "image/png": "[encoded data removed]",
      "text/plain": [
       "<Figure size 432x288 with 1 Axes>"
      ]
     },
     "metadata": {
      "needs_background": "light"
     },
     "output_type": "display_data"
    }
   ],
   "source": [
    "#Loading the image with target size (150,150)\n",
    "ima = image.load_img('newimage.jpg', target_size=(150,150))\n",
    "#Visualization of the image\n",
    "plt.imshow(ima)\n",
    "plt.show()"
   ]
  },
  {
   "cell_type": "code",
   "execution_count": 6,
   "metadata": {},
   "outputs": [
    {
     "name": "stdout",
     "output_type": "stream",
     "text": [
      "With mask\n"
     ]
    }
   ],
   "source": [
    "import warnings\n",
    "warnings.filterwarnings('ignore')\n",
    "#Converting an image to array\n",
    "ima = image.array_to_img(ima)\n",
    "#Expanding the m=dimensions\n",
    "imag = np.expand_dims(ima, axis=0)\n",
    "#Preddicting the output\n",
    "pred = mymodel.predict_classes(imag)\n",
    "#If condition\n",
    "if pred[0][0] ==0:\n",
    "    print('With mask')\n",
    "else:\n",
    "    print(\"Without mask\")\n"
   ]
  },
  {
   "cell_type": "markdown",
   "metadata": {},
   "source": [
    "### Prediction of Live Images"
   ]
  },
  {
   "cell_type": "code",
   "execution_count": 1,
   "metadata": {},
   "outputs": [],
   "source": [
    "#Import openCV\n",
    "import cv2\n",
    "import datetime\n",
    "from keras.preprocessing import image\n",
    "import numpy as np\n",
    "from keras.models import load_model\n",
    "mymodel = load_model('Facemask_.h5')"
   ]
  },
  {
   "cell_type": "code",
   "execution_count": 2,
   "metadata": {},
   "outputs": [
    {
     "name": "stderr",
     "output_type": "stream",
     "text": [
      "C:\\Users\\Kumar\\anaconda3\\lib\\site-packages\\tensorflow\\python\\keras\\engine\\sequential.py:450: UserWarning: `model.predict_classes()` is deprecated and will be removed after 2021-01-01. Please use instead:* `np.argmax(model.predict(x), axis=-1)`,   if your model does multi-class classification   (e.g. if it uses a `softmax` last-layer activation).* `(model.predict(x) > 0.5).astype(\"int32\")`,   if your model does binary classification   (e.g. if it uses a `sigmoid` last-layer activation).\n",
      "  warnings.warn('`model.predict_classes()` is deprecated and '\n"
     ]
    }
   ],
   "source": [
    "#Enable camera\n",
    "camera = cv2.VideoCapture(0)\n",
    "#loading the Haar Cascade Classifier Model to detect the face\n",
    "face_cascade = cv2.CascadeClassifier('haarcascade_frontalface_default.xml')\n",
    "\n",
    "while (True):\n",
    "    _,img = camera.read()\n",
    "    face = face_cascade.detectMultiScale(img, scaleFactor=1.1, minNeighbors=4)\n",
    "    for (x,y,w,h) in face:\n",
    "        face_img = img[x:x+w, y:y+h]\n",
    "        cv2.imwrite('temp.jpg', face_img)\n",
    "        \n",
    "        #Load image saved using cv2\n",
    "        test_img = image.load_img('temp.jpg', target_size=(150,150,3))\n",
    "        test_img = image.img_to_array(test_img)\n",
    "        test_img = np.expand_dims(test_img, axis=0)\n",
    "        predicte = mymodel.predict_classes(test_img)\n",
    "        \n",
    "        #If condition to determine the class\n",
    "        if predicte[0][0]==0:\n",
    "            cv2.rectangle(img,(x,y),(x+w,y+h),(0,255,0),3)\n",
    "            cv2.putText(img,'With Mask',((x+w)//2,y+h+20),cv2.FONT_HERSHEY_SIMPLEX,1,(0,255,0),3)\n",
    "        else:\n",
    "            cv2.rectangle(img, (x,y),(x+w,y+h),(0,0,255),3)\n",
    "            cv2.putText(img,'NO MASK',((x+w//2,y+h+20)), cv2.FONT_HERSHEY_SIMPLEX,1,(0,0,255),3)\n",
    "        #datetim = str(datetime.datetime.now())\n",
    "        #cv2.putText(img,datetim,(400,450),cv2.FONT_HERSHEY_SIMPLEX,1,(255,255,255),3)\n",
    "        \n",
    "    cv2.imshow('img',img)\n",
    "        \n",
    "        #Terminaton condition\n",
    "    if cv2.waitKey(1) & 0xFF==ord('q'): #Press q to exit\n",
    "        break\n",
    "            \n",
    "#Clean up resources\n",
    "camera.release()\n",
    "cv2.destroyAllWindows()"
   ]
  },
  {
   "cell_type": "code",
   "execution_count": null,
   "metadata": {},
   "outputs": [],
   "source": []
  },
  {
   "cell_type": "code",
   "execution_count": null,
   "metadata": {},
   "outputs": [],
   "source": [
    "kumarnaidur17@gmail.com"
   ]
  }
 ],
 "metadata": {
  "accelerator": "GPU",
  "colab": {
   "authorship_tag": "ABX9TyNxE72X3S0NTGeKj4C6uv4d",
   "collapsed_sections": [],
   "name": "Copy of Untitled0.ipynb",
   "provenance": []
  },
  "kernelspec": {
   "display_name": "Python 3",
   "language": "python",
   "name": "python3"
  },
  "language_info": {
   "codemirror_mode": {
    "name": "ipython",
    "version": 3
   },
   "file_extension": ".py",
   "mimetype": "text/x-python",
   "name": "python",
   "nbconvert_exporter": "python",
   "pygments_lexer": "ipython3",
   "version": "3.8.3"
  }
 },
 "nbformat": 4,
 "nbformat_minor": 1
}
