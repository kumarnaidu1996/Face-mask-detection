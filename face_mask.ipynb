{
 "cells": [
  {
   "cell_type": "code",
   "execution_count": null,
   "metadata": {},
   "outputs": [],
   "source": []
  },
  {
   "cell_type": "code",
   "execution_count": 1,
   "metadata": {},
   "outputs": [
    {
     "name": "stderr",
     "output_type": "stream",
     "text": [
      "C:\\Users\\Kumar\\anaconda3\\lib\\site-packages\\requests\\__init__.py:89: RequestsDependencyWarning: urllib3 (1.25.9) or chardet (4.0.0) doesn't match a supported version!\n",
      "  warnings.warn(\"urllib3 ({}) or chardet ({}) doesn't match a supported \"\n",
      "C:\\Users\\Kumar\\anaconda3\\lib\\site-packages\\tensorflow\\python\\keras\\engine\\sequential.py:450: UserWarning: `model.predict_classes()` is deprecated and will be removed after 2021-01-01. Please use instead:* `np.argmax(model.predict(x), axis=-1)`,   if your model does multi-class classification   (e.g. if it uses a `softmax` last-layer activation).* `(model.predict(x) > 0.5).astype(\"int32\")`,   if your model does binary classification   (e.g. if it uses a `sigmoid` last-layer activation).\n",
      "  warnings.warn('`model.predict_classes()` is deprecated and '\n"
     ]
    }
   ],
   "source": [
    "#Import openCV\n",
    "import cv2\n",
    "import datetime\n",
    "from keras.preprocessing import image\n",
    "import numpy as np\n",
    "from keras.models import load_model\n",
    "mymodel = load_model('Facemask_.h5')\n",
    "\n",
    "#Enable camera\n",
    "camera = cv2.VideoCapture(0)\n",
    "#loading the Haar Cascade Classifier Model to detect the face\n",
    "face_cascade = cv2.CascadeClassifier('haarcascade_frontalface_default.xml')\n",
    "\n",
    "while (True):\n",
    "    _,img = camera.read()\n",
    "    face = face_cascade.detectMultiScale(img, scaleFactor=1.1, minNeighbors=4)\n",
    "    for (x,y,w,h) in face:\n",
    "        face_img = img[x:x+w, y:y+h]\n",
    "        cv2.imwrite('temp.jpg', face_img)\n",
    "        \n",
    "        #Load image saved using cv2\n",
    "        test_img = image.load_img('temp.jpg', target_size=(150,150,3))\n",
    "        test_img = image.img_to_array(test_img)\n",
    "        test_img = np.expand_dims(test_img, axis=0)\n",
    "        predicte = mymodel.predict_classes(test_img)\n",
    "        \n",
    "        #If condition to determine the class\n",
    "        if predicte[0][0]==0:\n",
    "            cv2.rectangle(img,(x,y),(x+w,y+h),(0,255,0),3)\n",
    "            cv2.putText(img,'With Mask',((x+w)//2,y+h+20),cv2.FONT_HERSHEY_SIMPLEX,1,(0,255,0),3)\n",
    "        else:\n",
    "            cv2.rectangle(img, (x,y),(x+w,y+h),(0,0,255),3)\n",
    "            cv2.putText(img,'NO MASK',((x+w//2,y+h+20)), cv2.FONT_HERSHEY_SIMPLEX,1,(0,0,255),3)\n",
    "        #datetim = str(datetime.datetime.now())\n",
    "        #cv2.putText(img,datetim,(400,450),cv2.FONT_HERSHEY_SIMPLEX,1,(255,255,255),3)\n",
    "        \n",
    "    cv2.imshow('img',img)\n",
    "        \n",
    "    #Terminaton condition\n",
    "    if cv2.waitKey(1) & 0xFF==ord('q'): #Press q to exit\n",
    "        break\n",
    "            \n",
    "#Clean up resources\n",
    "camera.release()\n",
    "cv2.destroyAllWindows()"
   ]
  },
  {
   "cell_type": "code",
   "execution_count": null,
   "metadata": {},
   "outputs": [],
   "source": []
  }
 ],
 "metadata": {
  "kernelspec": {
   "display_name": "Python 3",
   "language": "python",
   "name": "python3"
  },
  "language_info": {
   "codemirror_mode": {
    "name": "ipython",
    "version": 3
   },
   "file_extension": ".py",
   "mimetype": "text/x-python",
   "name": "python",
   "nbconvert_exporter": "python",
   "pygments_lexer": "ipython3",
   "version": "3.8.3"
  }
 },
 "nbformat": 4,
 "nbformat_minor": 4
}
